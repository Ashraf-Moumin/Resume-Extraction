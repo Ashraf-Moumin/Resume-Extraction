{
 "cells": [
  {
   "cell_type": "markdown",
   "metadata": {},
   "source": [
    "# Resume Extraction Project\n",
    "\n",
    "This project takes open data of resumes written by many candidates and extracts informations."
   ]
  },
  {
   "cell_type": "code",
   "execution_count": 110,
   "metadata": {},
   "outputs": [],
   "source": [
    "\n",
    "\n",
    "with open(r'data/new_resumes.json', encoding='utf8') as f:\n",
    "    \n",
    "    data_file= f.read()\n",
    " \n",
    "\n"
   ]
  },
  {
   "cell_type": "markdown",
   "metadata": {},
   "source": [
    "## Approach\n",
    "\n",
    "The approach here is to take as target the highlighted information under the \"text\" part for each instance. \n",
    "\n",
    "\n",
    "Below is the data cleaning process to extract this information using the regular expressions library.\n"
   ]
  },
  {
   "cell_type": "code",
   "execution_count": 111,
   "metadata": {},
   "outputs": [],
   "source": [
    "import re\n",
    "\n",
    "\n",
    "new_data = data_file.split('}]}]}')\n",
    "informations_candidates = []\n",
    "\n",
    "for data in new_data:\n",
    "    #information = re.findall(r'\"text\":([^\\\"])\"}',data)\n",
    "    data = data.replace(r'\\n', ' ')\n",
    "    information = re.findall(r'\"text\":\"([^\"]+)\"}',data)\n",
    "    # A set is taken to avoid repetition\n",
    "    informations_candidates.append(set(information))\n",
    "\n"
   ]
  },
  {
   "cell_type": "code",
   "execution_count": 112,
   "metadata": {},
   "outputs": [],
   "source": [
    "import pandas as pd\n",
    "\n",
    "df = pd.DataFrame({'Text': new_data, 'Information extracted': informations_candidates})\n"
   ]
  },
  {
   "cell_type": "code",
   "execution_count": 113,
   "metadata": {},
   "outputs": [
    {
     "data": {
      "text/html": [
       "<div>\n",
       "<style scoped>\n",
       "    .dataframe tbody tr th:only-of-type {\n",
       "        vertical-align: middle;\n",
       "    }\n",
       "\n",
       "    .dataframe tbody tr th {\n",
       "        vertical-align: top;\n",
       "    }\n",
       "\n",
       "    .dataframe thead th {\n",
       "        text-align: right;\n",
       "    }\n",
       "</style>\n",
       "<table border=\"1\" class=\"dataframe\">\n",
       "  <thead>\n",
       "    <tr style=\"text-align: right;\">\n",
       "      <th></th>\n",
       "      <th>Text</th>\n",
       "      <th>Information extracted</th>\n",
       "    </tr>\n",
       "  </thead>\n",
       "  <tbody>\n",
       "    <tr>\n",
       "      <th>0</th>\n",
       "      <td>{\"content\": \"Govardhana K\\nSenior Software Eng...</td>\n",
       "      <td>{Associate Consultant, B.E in Computer Science...</td>\n",
       "    </tr>\n",
       "    <tr>\n",
       "      <th>1</th>\n",
       "      <td>\\n{\"content\": \"Harini Komaravelli\\nTest Analys...</td>\n",
       "      <td>{6 Yrs, Test Analyst, B.Sc. in Computer Scienc...</td>\n",
       "    </tr>\n",
       "    <tr>\n",
       "      <th>2</th>\n",
       "      <td>\\n{\"content\": \"Hartej Kathuria\\nData Analyst I...</td>\n",
       "      <td>{2018, indeed.com/r/Hartej-Kathuria/04181c5962...</td>\n",
       "    </tr>\n",
       "    <tr>\n",
       "      <th>3</th>\n",
       "      <td>\\n{\"content\": \"Ijas Nizamuddin\\nAssociate Cons...</td>\n",
       "      <td>{University College Of Engineering, Bachelor o...</td>\n",
       "    </tr>\n",
       "    <tr>\n",
       "      <th>4</th>\n",
       "      <td>\\n{\"content\": \"Imgeeyaul Ansari\\njava develope...</td>\n",
       "      <td>{Pune,  2016, Application Developer, JAVA (1 y...</td>\n",
       "    </tr>\n",
       "  </tbody>\n",
       "</table>\n",
       "</div>"
      ],
      "text/plain": [
       "                                                Text  \\\n",
       "0  {\"content\": \"Govardhana K\\nSenior Software Eng...   \n",
       "1  \\n{\"content\": \"Harini Komaravelli\\nTest Analys...   \n",
       "2  \\n{\"content\": \"Hartej Kathuria\\nData Analyst I...   \n",
       "3  \\n{\"content\": \"Ijas Nizamuddin\\nAssociate Cons...   \n",
       "4  \\n{\"content\": \"Imgeeyaul Ansari\\njava develope...   \n",
       "\n",
       "                               Information extracted  \n",
       "0  {Associate Consultant, B.E in Computer Science...  \n",
       "1  {6 Yrs, Test Analyst, B.Sc. in Computer Scienc...  \n",
       "2  {2018, indeed.com/r/Hartej-Kathuria/04181c5962...  \n",
       "3  {University College Of Engineering, Bachelor o...  \n",
       "4  {Pune,  2016, Application Developer, JAVA (1 y...  "
      ]
     },
     "execution_count": 113,
     "metadata": {},
     "output_type": "execute_result"
    }
   ],
   "source": [
    "df.head()"
   ]
  }
 ],
 "metadata": {
  "kernelspec": {
   "display_name": "venv",
   "language": "python",
   "name": "python3"
  },
  "language_info": {
   "codemirror_mode": {
    "name": "ipython",
    "version": 3
   },
   "file_extension": ".py",
   "mimetype": "text/x-python",
   "name": "python",
   "nbconvert_exporter": "python",
   "pygments_lexer": "ipython3",
   "version": "3.9.7"
  }
 },
 "nbformat": 4,
 "nbformat_minor": 2
}
