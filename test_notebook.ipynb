{
 "cells": [
  {
   "cell_type": "code",
   "execution_count": 1,
   "metadata": {},
   "outputs": [],
   "source": [
    "import json\n",
    "\n",
    "with open(r'data/Resume.json', encoding='utf8') as f:\n",
    "    data= f.read()\n",
    "\n"
   ]
  },
  {
   "cell_type": "code",
   "execution_count": 2,
   "metadata": {},
   "outputs": [],
   "source": [
    "splitted = data.split('}]}]}')\n",
    "splitted = splitted[:199]"
   ]
  },
  {
   "cell_type": "code",
   "execution_count": 3,
   "metadata": {},
   "outputs": [],
   "source": [
    "for l in range(len(splitted)):\n",
    "    line = splitted[l]\n",
    "    if line[0:10]=='{\"content\"':\n",
    "        pass\n",
    "    elif line[0:11]=='\\n{\"content\"':\n",
    "        pass\n",
    "    else:\n",
    "        print(f'{l} error')\n",
    "        "
   ]
  },
  {
   "cell_type": "code",
   "execution_count": 11,
   "metadata": {},
   "outputs": [
    {
     "data": {
      "text/plain": [
       "2651"
      ]
     },
     "execution_count": 11,
     "metadata": {},
     "output_type": "execute_result"
    }
   ],
   "source": [
    "len(splitted[2].split('\"')[3])"
   ]
  },
  {
   "cell_type": "code",
   "execution_count": 22,
   "metadata": {},
   "outputs": [
    {
     "name": "stdout",
     "output_type": "stream",
     "text": [
      "The average length of the contents is about 3453 characters.\n",
      "Taking the average word as between 4 to 5 characters, \n",
      "the number of words is approximately between 690 and 863 words.\n"
     ]
    }
   ],
   "source": [
    "average_length= 0\n",
    "\n",
    "for i in range(len(splitted)):\n",
    "    average_length+= len(splitted[i].split('\"')[3])\n",
    "\n",
    "average_length/= len(splitted)\n",
    "\n",
    "print(f'''The average length of the contents is about {int(average_length)} characters.\n",
    "Taking the average word as between 4 to 5 characters, \n",
    "the number of words is approximately between {int(average_length/5)} and {int(average_length/4)} words.''')"
   ]
  },
  {
   "cell_type": "code",
   "execution_count": 1,
   "metadata": {},
   "outputs": [],
   "source": [
    "from tensorflow.keras.models import load_model\n",
    "    "
   ]
  }
 ],
 "metadata": {
  "kernelspec": {
   "display_name": "venv",
   "language": "python",
   "name": "python3"
  },
  "language_info": {
   "codemirror_mode": {
    "name": "ipython",
    "version": 3
   },
   "file_extension": ".py",
   "mimetype": "text/x-python",
   "name": "python",
   "nbconvert_exporter": "python",
   "pygments_lexer": "ipython3",
   "version": "3.9.7"
  }
 },
 "nbformat": 4,
 "nbformat_minor": 2
}
